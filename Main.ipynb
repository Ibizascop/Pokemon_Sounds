{
 "cells": [
  {
   "cell_type": "code",
   "execution_count": 2,
   "id": "64de8933",
   "metadata": {},
   "outputs": [],
   "source": [
    "import librosa\n",
    "import librosa.display\n",
    "import IPython.display as ipd\n",
    "import numpy as np\n",
    "from tqdm import tqdm\n",
    "from os import path\n",
    "from os import listdir\n",
    "from pydub import AudioSegment"
   ]
  },
  {
   "cell_type": "code",
   "execution_count": 3,
   "id": "024c29d0",
   "metadata": {},
   "outputs": [],
   "source": [
    "import matplotlib.pyplot as plt\n",
    "%matplotlib inline\n"
   ]
  },
  {
   "cell_type": "code",
   "execution_count": 5,
   "id": "66f9a7cd",
   "metadata": {},
   "outputs": [],
   "source": [
    "def print_plot_play(sound, Fs,name, text=''):\n",
    "    \"\"\"1. Prints information about an audio singal, 2. plots the waveform, and 3. Creates player\n",
    "    \n",
    "    Notebook: C1/B_PythonAudio.ipynb\n",
    "    \n",
    "    Args: \n",
    "        sound: Input signal\n",
    "        Fs: Sampling rate of sound    \n",
    "        text: Text to print\n",
    "    \"\"\"\n",
    "    #print('%s Fs = %d, x.shape = %s, x.dtype = %s' % (text, Fs, sound.shape, sound.dtype))\n",
    "    plt.figure(figsize=(8, 2))\n",
    "    plt.plot(sound, color='gray')\n",
    "    plt.xlim([0, sound.shape[0]])\n",
    "    plt.xlabel('Time (samples)')\n",
    "    plt.ylabel('Amplitude')\n",
    "    plt.tight_layout()\n",
    "    #plt.show()\n",
    "    plt.savefig(r\"C:\\Users\\ibiza\\OneDrive\\Desktop\\Cours\\Python\\Time Series\\Son\\Data\\Plots\\PNGS\"+\"\\\\\"+name\n",
    "                , bbox_inches='tight')\n",
    "    plt.close('all')   \n",
    "    #ipd.display(ipd.Audio(data=sound, rate=Fs))"
   ]
  },
  {
   "cell_type": "code",
   "execution_count": 6,
   "id": "1bbfb277",
   "metadata": {
    "scrolled": true
   },
   "outputs": [
    {
     "name": "stderr",
     "output_type": "stream",
     "text": [
      "100%|██████████████████████████████████████████████████████████████████████████████| 1001/1001 [04:12<00:00,  3.96it/s]\n"
     ]
    }
   ],
   "source": [
    "# files\n",
    "names = listdir(r\"C:\\Users\\ibiza\\OneDrive\\Desktop\\Cours\\Python\\Time Series\\Son\\Data\\WAV\")[1:]\n",
    "liste_wavs = [r\"C:\\Users\\ibiza\\OneDrive\\Desktop\\Cours\\Python\\Time Series\\Son\\Data\\WAV\"+'\\\\'+sound \n",
    "             for sound in names]\n",
    "for i,file in enumerate(tqdm(liste_wavs)) :\n",
    "    sound, Fs = librosa.load(file)\n",
    "    print_plot_play(sound=sound, Fs=Fs, name = names[i].replace(\".wav\",\".png\"))"
   ]
  },
  {
   "cell_type": "code",
   "execution_count": 25,
   "id": "83a7d20b",
   "metadata": {},
   "outputs": [
    {
     "data": {
      "text/plain": [
       "array([-1.5500667e-04, -2.5446256e-04, -2.3394702e-04, ...,\n",
       "       -8.6429536e-05, -9.9377452e-05,  0.0000000e+00], dtype=float32)"
      ]
     },
     "execution_count": 25,
     "metadata": {},
     "output_type": "execute_result"
    }
   ],
   "source": [
    "# CSV\n",
    "names = listdir(r\"C:\\Users\\w.grasina\\Desktop\\Python\\Son\\Data\\WAV\")[1:]\n",
    "liste_wavs = [r\"C:\\Users\\w.grasina\\Desktop\\Python\\Son\\Data\\WAV\"+'\\\\'+sound \n",
    "             for sound in names]\n",
    "sound, Fs = librosa.load(liste_wavs[3])\n",
    "sound"
   ]
  },
  {
   "cell_type": "code",
   "execution_count": 26,
   "id": "c5afb7be",
   "metadata": {},
   "outputs": [
    {
     "data": {
      "text/plain": [
       "4.5351473922902495e-05"
      ]
     },
     "execution_count": 26,
     "metadata": {},
     "output_type": "execute_result"
    }
   ],
   "source": [
    "\n",
    "librosa.get_duration(sound,Fs)/len(sound)"
   ]
  },
  {
   "cell_type": "code",
   "execution_count": 5,
   "id": "ea83bca1",
   "metadata": {},
   "outputs": [],
   "source": [
    "np.savetxt(r\"C:\\Users\\w.grasina\\Desktop\\Python\\Son\\Data\\CSV\\1.csv\", sound, delimiter=\",\")"
   ]
  },
  {
   "cell_type": "code",
   "execution_count": 27,
   "id": "e0dc6cc3",
   "metadata": {},
   "outputs": [
    {
     "data": {
      "text/plain": [
       "20152"
      ]
     },
     "execution_count": 27,
     "metadata": {},
     "output_type": "execute_result"
    }
   ],
   "source": [
    "len(sound)"
   ]
  },
  {
   "cell_type": "code",
   "execution_count": null,
   "id": "d8c70603",
   "metadata": {},
   "outputs": [],
   "source": []
  }
 ],
 "metadata": {
  "kernelspec": {
   "display_name": "Python 3",
   "language": "python",
   "name": "python3"
  },
  "language_info": {
   "codemirror_mode": {
    "name": "ipython",
    "version": 3
   },
   "file_extension": ".py",
   "mimetype": "text/x-python",
   "name": "python",
   "nbconvert_exporter": "python",
   "pygments_lexer": "ipython3",
   "version": "3.9.1"
  }
 },
 "nbformat": 4,
 "nbformat_minor": 5
}
